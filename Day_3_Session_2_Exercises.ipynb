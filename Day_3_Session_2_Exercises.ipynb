{
  "nbformat": 4,
  "nbformat_minor": 0,
  "metadata": {
    "colab": {
      "name": "Day 3 Session 2 Exercises.ipynb",
      "provenance": [],
      "collapsed_sections": [],
      "toc_visible": true,
      "authorship_tag": "ABX9TyO3aNWyohY6ZAZ+M5Tb/cnx",
      "include_colab_link": true
    },
    "kernelspec": {
      "name": "python3",
      "display_name": "Python 3"
    }
  },
  "cells": [
    {
      "cell_type": "markdown",
      "metadata": {
        "id": "view-in-github",
        "colab_type": "text"
      },
      "source": [
        "<a href=\"https://colab.research.google.com/github/Shrinivasakunder/certification-and-online-coding/blob/master/Day_3_Session_2_Exercises.ipynb\" target=\"_parent\"><img src=\"https://colab.research.google.com/assets/colab-badge.svg\" alt=\"Open In Colab\"/></a>"
      ]
    },
    {
      "cell_type": "markdown",
      "metadata": {
        "id": "7VBcRJVDL7Ho",
        "colab_type": "text"
      },
      "source": [
        "#Write a Pandas program to create and display a one-dimensional array using series  containing  even numbers upto 10000"
      ]
    },
    {
      "cell_type": "code",
      "metadata": {
        "id": "49EDlG3jIqBG",
        "colab_type": "code",
        "colab": {
          "base_uri": "https://localhost:8080/",
          "height": 221
        },
        "outputId": "9c47bc66-a848-4d10-e2a7-5d70e259f210"
      },
      "source": [
        "import pandas as pd\n",
        "l=([i for i in range(0,10000) if i%2==0])\n",
        "ds = pd.Series(l) \n",
        "print(ds)"
      ],
      "execution_count": null,
      "outputs": [
        {
          "output_type": "stream",
          "text": [
            "0          0\n",
            "1          2\n",
            "2          4\n",
            "3          6\n",
            "4          8\n",
            "        ... \n",
            "4995    9990\n",
            "4996    9992\n",
            "4997    9994\n",
            "4998    9996\n",
            "4999    9998\n",
            "Length: 5000, dtype: int64\n"
          ],
          "name": "stdout"
        }
      ]
    },
    {
      "cell_type": "markdown",
      "metadata": {
        "id": "lw5K_KgWMQgu",
        "colab_type": "text"
      },
      "source": [
        "#Write a Pandas program to convert a Panda module Series of the numbers which are between 1000 and 2000 (both inclusive) and divisable by 5 to Python list and  after convertion print its type "
      ]
    },
    {
      "cell_type": "code",
      "metadata": {
        "id": "6ixGktqxMQzk",
        "colab_type": "code",
        "colab": {
          "base_uri": "https://localhost:8080/",
          "height": 275
        },
        "outputId": "aa661fbf-74ef-4048-9932-c64b60251fd5"
      },
      "source": [
        "import pandas as pd\n",
        "d = pd.Series([i for i in range(1000,2001) if i%5==0]) \n",
        "print(d)\n",
        "print(d.tolist())\n",
        "print(type(d.tolist()))"
      ],
      "execution_count": null,
      "outputs": [
        {
          "output_type": "stream",
          "text": [
            "0      1000\n",
            "1      1005\n",
            "2      1010\n",
            "3      1015\n",
            "4      1020\n",
            "       ... \n",
            "196    1980\n",
            "197    1985\n",
            "198    1990\n",
            "199    1995\n",
            "200    2000\n",
            "Length: 201, dtype: int64\n",
            "[1000, 1005, 1010, 1015, 1020, 1025, 1030, 1035, 1040, 1045, 1050, 1055, 1060, 1065, 1070, 1075, 1080, 1085, 1090, 1095, 1100, 1105, 1110, 1115, 1120, 1125, 1130, 1135, 1140, 1145, 1150, 1155, 1160, 1165, 1170, 1175, 1180, 1185, 1190, 1195, 1200, 1205, 1210, 1215, 1220, 1225, 1230, 1235, 1240, 1245, 1250, 1255, 1260, 1265, 1270, 1275, 1280, 1285, 1290, 1295, 1300, 1305, 1310, 1315, 1320, 1325, 1330, 1335, 1340, 1345, 1350, 1355, 1360, 1365, 1370, 1375, 1380, 1385, 1390, 1395, 1400, 1405, 1410, 1415, 1420, 1425, 1430, 1435, 1440, 1445, 1450, 1455, 1460, 1465, 1470, 1475, 1480, 1485, 1490, 1495, 1500, 1505, 1510, 1515, 1520, 1525, 1530, 1535, 1540, 1545, 1550, 1555, 1560, 1565, 1570, 1575, 1580, 1585, 1590, 1595, 1600, 1605, 1610, 1615, 1620, 1625, 1630, 1635, 1640, 1645, 1650, 1655, 1660, 1665, 1670, 1675, 1680, 1685, 1690, 1695, 1700, 1705, 1710, 1715, 1720, 1725, 1730, 1735, 1740, 1745, 1750, 1755, 1760, 1765, 1770, 1775, 1780, 1785, 1790, 1795, 1800, 1805, 1810, 1815, 1820, 1825, 1830, 1835, 1840, 1845, 1850, 1855, 1860, 1865, 1870, 1875, 1880, 1885, 1890, 1895, 1900, 1905, 1910, 1915, 1920, 1925, 1930, 1935, 1940, 1945, 1950, 1955, 1960, 1965, 1970, 1975, 1980, 1985, 1990, 1995, 2000]\n",
            "<class 'list'>\n"
          ],
          "name": "stdout"
        }
      ]
    },
    {
      "cell_type": "markdown",
      "metadata": {
        "id": "bmpJpq4oN0DP",
        "colab_type": "text"
      },
      "source": [
        "#Write a Pandas program to add, subtract, multiple and divide two Pandas Series and print their results using the Sample Series: [2, 4, 6, 8, ...100], [1, 3, 5, 7, 9...99]"
      ]
    },
    {
      "cell_type": "code",
      "metadata": {
        "id": "laI7UaJLN2pR",
        "colab_type": "code",
        "colab": {
          "base_uri": "https://localhost:8080/",
          "height": 1000
        },
        "outputId": "35273523-035c-4f05-bcbc-e0b3b8d81e74"
      },
      "source": [
        "import pandas as pd\n",
        "l1=([i for i in range(1,101) if i%2==0])\n",
        "l2=([i for i in range(1,100) if i%2==1])\n",
        "d1=pd.Series(l1)\n",
        "d2=pd.Series(l2)\n",
        "print(f'Addition Of  Two Series:\\n{d1+d2}')\n",
        "print(f'Subtraction Of  Two Series:\\n{d1-d2}')\n",
        "print(f'Multiplication Of  Two Series:\\n{d1*d2}')\n",
        "print(f'Division Of  Two Series:\\n{d1/d2}')"
      ],
      "execution_count": null,
      "outputs": [
        {
          "output_type": "stream",
          "text": [
            "Addition Of  Two Series:\n",
            "0       3\n",
            "1       7\n",
            "2      11\n",
            "3      15\n",
            "4      19\n",
            "5      23\n",
            "6      27\n",
            "7      31\n",
            "8      35\n",
            "9      39\n",
            "10     43\n",
            "11     47\n",
            "12     51\n",
            "13     55\n",
            "14     59\n",
            "15     63\n",
            "16     67\n",
            "17     71\n",
            "18     75\n",
            "19     79\n",
            "20     83\n",
            "21     87\n",
            "22     91\n",
            "23     95\n",
            "24     99\n",
            "25    103\n",
            "26    107\n",
            "27    111\n",
            "28    115\n",
            "29    119\n",
            "30    123\n",
            "31    127\n",
            "32    131\n",
            "33    135\n",
            "34    139\n",
            "35    143\n",
            "36    147\n",
            "37    151\n",
            "38    155\n",
            "39    159\n",
            "40    163\n",
            "41    167\n",
            "42    171\n",
            "43    175\n",
            "44    179\n",
            "45    183\n",
            "46    187\n",
            "47    191\n",
            "48    195\n",
            "49    199\n",
            "dtype: int64\n",
            "Subtraction Of  Two Series:\n",
            "0     1\n",
            "1     1\n",
            "2     1\n",
            "3     1\n",
            "4     1\n",
            "5     1\n",
            "6     1\n",
            "7     1\n",
            "8     1\n",
            "9     1\n",
            "10    1\n",
            "11    1\n",
            "12    1\n",
            "13    1\n",
            "14    1\n",
            "15    1\n",
            "16    1\n",
            "17    1\n",
            "18    1\n",
            "19    1\n",
            "20    1\n",
            "21    1\n",
            "22    1\n",
            "23    1\n",
            "24    1\n",
            "25    1\n",
            "26    1\n",
            "27    1\n",
            "28    1\n",
            "29    1\n",
            "30    1\n",
            "31    1\n",
            "32    1\n",
            "33    1\n",
            "34    1\n",
            "35    1\n",
            "36    1\n",
            "37    1\n",
            "38    1\n",
            "39    1\n",
            "40    1\n",
            "41    1\n",
            "42    1\n",
            "43    1\n",
            "44    1\n",
            "45    1\n",
            "46    1\n",
            "47    1\n",
            "48    1\n",
            "49    1\n",
            "dtype: int64\n",
            "Multiplication Of  Two Series:\n",
            "0        2\n",
            "1       12\n",
            "2       30\n",
            "3       56\n",
            "4       90\n",
            "5      132\n",
            "6      182\n",
            "7      240\n",
            "8      306\n",
            "9      380\n",
            "10     462\n",
            "11     552\n",
            "12     650\n",
            "13     756\n",
            "14     870\n",
            "15     992\n",
            "16    1122\n",
            "17    1260\n",
            "18    1406\n",
            "19    1560\n",
            "20    1722\n",
            "21    1892\n",
            "22    2070\n",
            "23    2256\n",
            "24    2450\n",
            "25    2652\n",
            "26    2862\n",
            "27    3080\n",
            "28    3306\n",
            "29    3540\n",
            "30    3782\n",
            "31    4032\n",
            "32    4290\n",
            "33    4556\n",
            "34    4830\n",
            "35    5112\n",
            "36    5402\n",
            "37    5700\n",
            "38    6006\n",
            "39    6320\n",
            "40    6642\n",
            "41    6972\n",
            "42    7310\n",
            "43    7656\n",
            "44    8010\n",
            "45    8372\n",
            "46    8742\n",
            "47    9120\n",
            "48    9506\n",
            "49    9900\n",
            "dtype: int64\n",
            "Division Of  Two Series:\n",
            "0     2.000000\n",
            "1     1.333333\n",
            "2     1.200000\n",
            "3     1.142857\n",
            "4     1.111111\n",
            "5     1.090909\n",
            "6     1.076923\n",
            "7     1.066667\n",
            "8     1.058824\n",
            "9     1.052632\n",
            "10    1.047619\n",
            "11    1.043478\n",
            "12    1.040000\n",
            "13    1.037037\n",
            "14    1.034483\n",
            "15    1.032258\n",
            "16    1.030303\n",
            "17    1.028571\n",
            "18    1.027027\n",
            "19    1.025641\n",
            "20    1.024390\n",
            "21    1.023256\n",
            "22    1.022222\n",
            "23    1.021277\n",
            "24    1.020408\n",
            "25    1.019608\n",
            "26    1.018868\n",
            "27    1.018182\n",
            "28    1.017544\n",
            "29    1.016949\n",
            "30    1.016393\n",
            "31    1.015873\n",
            "32    1.015385\n",
            "33    1.014925\n",
            "34    1.014493\n",
            "35    1.014085\n",
            "36    1.013699\n",
            "37    1.013333\n",
            "38    1.012987\n",
            "39    1.012658\n",
            "40    1.012346\n",
            "41    1.012048\n",
            "42    1.011765\n",
            "43    1.011494\n",
            "44    1.011236\n",
            "45    1.010989\n",
            "46    1.010753\n",
            "47    1.010526\n",
            "48    1.010309\n",
            "49    1.010101\n",
            "dtype: float64\n"
          ],
          "name": "stdout"
        }
      ]
    },
    {
      "cell_type": "markdown",
      "metadata": {
        "id": "9gNz4RaHPljU",
        "colab_type": "text"
      },
      "source": [
        "#Write a Pandas program to compare (Equivalence, greater than, less than, not equal to )the elements of the two Pandas Series.Sample Series: [All positive numbers divisable by 7 upto 1000], [All positive numbers divisable by 11 upto 1000]\n"
      ]
    },
    {
      "cell_type": "code",
      "metadata": {
        "id": "aC3T-fp3Ppuv",
        "colab_type": "code",
        "colab": {
          "base_uri": "https://localhost:8080/",
          "height": 1000
        },
        "outputId": "2417a5a0-ee16-455a-e0f7-ee3be7bba566"
      },
      "source": [
        "import pandas as pd\n",
        "l1=([i for i in range(1,1000) if i%7==0])\n",
        "l2=([i for i in range(1,1000) if i%11==0])\n",
        "d1 = pd.Series(l1)\n",
        "d2 = pd.Series(l2)\n",
        "print(\"Compare the elements of the said Series:\")\n",
        "print(\"Equals:\")\n",
        "for i in range (len(l2)):\n",
        "  print(i,\" \",d1[i]==d2[i])\n",
        "print(\"Greater than:\")\n",
        "for i in range(len(l2)):\n",
        "  print(i,\" \",d1[i]>d2[i])\n",
        "print(\"Less than:\")\n",
        "for i in range(len(l2)):\n",
        "  print(i,\" \",d1[i]<d2[i])"
      ],
      "execution_count": null,
      "outputs": [
        {
          "output_type": "stream",
          "text": [
            "Compare the elements of the said Series:\n",
            "Equals:\n",
            "0   False\n",
            "1   False\n",
            "2   False\n",
            "3   False\n",
            "4   False\n",
            "5   False\n",
            "6   False\n",
            "7   False\n",
            "8   False\n",
            "9   False\n",
            "10   False\n",
            "11   False\n",
            "12   False\n",
            "13   False\n",
            "14   False\n",
            "15   False\n",
            "16   False\n",
            "17   False\n",
            "18   False\n",
            "19   False\n",
            "20   False\n",
            "21   False\n",
            "22   False\n",
            "23   False\n",
            "24   False\n",
            "25   False\n",
            "26   False\n",
            "27   False\n",
            "28   False\n",
            "29   False\n",
            "30   False\n",
            "31   False\n",
            "32   False\n",
            "33   False\n",
            "34   False\n",
            "35   False\n",
            "36   False\n",
            "37   False\n",
            "38   False\n",
            "39   False\n",
            "40   False\n",
            "41   False\n",
            "42   False\n",
            "43   False\n",
            "44   False\n",
            "45   False\n",
            "46   False\n",
            "47   False\n",
            "48   False\n",
            "49   False\n",
            "50   False\n",
            "51   False\n",
            "52   False\n",
            "53   False\n",
            "54   False\n",
            "55   False\n",
            "56   False\n",
            "57   False\n",
            "58   False\n",
            "59   False\n",
            "60   False\n",
            "61   False\n",
            "62   False\n",
            "63   False\n",
            "64   False\n",
            "65   False\n",
            "66   False\n",
            "67   False\n",
            "68   False\n",
            "69   False\n",
            "70   False\n",
            "71   False\n",
            "72   False\n",
            "73   False\n",
            "74   False\n",
            "75   False\n",
            "76   False\n",
            "77   False\n",
            "78   False\n",
            "79   False\n",
            "80   False\n",
            "81   False\n",
            "82   False\n",
            "83   False\n",
            "84   False\n",
            "85   False\n",
            "86   False\n",
            "87   False\n",
            "88   False\n",
            "89   False\n",
            "Greater than:\n",
            "0   False\n",
            "1   False\n",
            "2   False\n",
            "3   False\n",
            "4   False\n",
            "5   False\n",
            "6   False\n",
            "7   False\n",
            "8   False\n",
            "9   False\n",
            "10   False\n",
            "11   False\n",
            "12   False\n",
            "13   False\n",
            "14   False\n",
            "15   False\n",
            "16   False\n",
            "17   False\n",
            "18   False\n",
            "19   False\n",
            "20   False\n",
            "21   False\n",
            "22   False\n",
            "23   False\n",
            "24   False\n",
            "25   False\n",
            "26   False\n",
            "27   False\n",
            "28   False\n",
            "29   False\n",
            "30   False\n",
            "31   False\n",
            "32   False\n",
            "33   False\n",
            "34   False\n",
            "35   False\n",
            "36   False\n",
            "37   False\n",
            "38   False\n",
            "39   False\n",
            "40   False\n",
            "41   False\n",
            "42   False\n",
            "43   False\n",
            "44   False\n",
            "45   False\n",
            "46   False\n",
            "47   False\n",
            "48   False\n",
            "49   False\n",
            "50   False\n",
            "51   False\n",
            "52   False\n",
            "53   False\n",
            "54   False\n",
            "55   False\n",
            "56   False\n",
            "57   False\n",
            "58   False\n",
            "59   False\n",
            "60   False\n",
            "61   False\n",
            "62   False\n",
            "63   False\n",
            "64   False\n",
            "65   False\n",
            "66   False\n",
            "67   False\n",
            "68   False\n",
            "69   False\n",
            "70   False\n",
            "71   False\n",
            "72   False\n",
            "73   False\n",
            "74   False\n",
            "75   False\n",
            "76   False\n",
            "77   False\n",
            "78   False\n",
            "79   False\n",
            "80   False\n",
            "81   False\n",
            "82   False\n",
            "83   False\n",
            "84   False\n",
            "85   False\n",
            "86   False\n",
            "87   False\n",
            "88   False\n",
            "89   False\n",
            "Less than:\n",
            "0   True\n",
            "1   True\n",
            "2   True\n",
            "3   True\n",
            "4   True\n",
            "5   True\n",
            "6   True\n",
            "7   True\n",
            "8   True\n",
            "9   True\n",
            "10   True\n",
            "11   True\n",
            "12   True\n",
            "13   True\n",
            "14   True\n",
            "15   True\n",
            "16   True\n",
            "17   True\n",
            "18   True\n",
            "19   True\n",
            "20   True\n",
            "21   True\n",
            "22   True\n",
            "23   True\n",
            "24   True\n",
            "25   True\n",
            "26   True\n",
            "27   True\n",
            "28   True\n",
            "29   True\n",
            "30   True\n",
            "31   True\n",
            "32   True\n",
            "33   True\n",
            "34   True\n",
            "35   True\n",
            "36   True\n",
            "37   True\n",
            "38   True\n",
            "39   True\n",
            "40   True\n",
            "41   True\n",
            "42   True\n",
            "43   True\n",
            "44   True\n",
            "45   True\n",
            "46   True\n",
            "47   True\n",
            "48   True\n",
            "49   True\n",
            "50   True\n",
            "51   True\n",
            "52   True\n",
            "53   True\n",
            "54   True\n",
            "55   True\n",
            "56   True\n",
            "57   True\n",
            "58   True\n",
            "59   True\n",
            "60   True\n",
            "61   True\n",
            "62   True\n",
            "63   True\n",
            "64   True\n",
            "65   True\n",
            "66   True\n",
            "67   True\n",
            "68   True\n",
            "69   True\n",
            "70   True\n",
            "71   True\n",
            "72   True\n",
            "73   True\n",
            "74   True\n",
            "75   True\n",
            "76   True\n",
            "77   True\n",
            "78   True\n",
            "79   True\n",
            "80   True\n",
            "81   True\n",
            "82   True\n",
            "83   True\n",
            "84   True\n",
            "85   True\n",
            "86   True\n",
            "87   True\n",
            "88   True\n",
            "89   True\n"
          ],
          "name": "stdout"
        }
      ]
    },
    {
      "cell_type": "markdown",
      "metadata": {
        "id": "wpdZSgBiQf0N",
        "colab_type": "text"
      },
      "source": [
        "#Write a Pandas program to convert a NumPy array to a Pandas series. \n",
        "#Sample NumPy array: d1 = [10, 20, 30, 40, 50... 1000]\n"
      ]
    },
    {
      "cell_type": "code",
      "metadata": {
        "id": "5BnWOpHTQjBe",
        "colab_type": "code",
        "colab": {
          "base_uri": "https://localhost:8080/",
          "height": 391
        },
        "outputId": "4ea8cff3-2fcb-4b8d-c800-9946845f5114"
      },
      "source": [
        "import numpy as np\n",
        "import pandas as pd\n",
        "l1=([i for i in range(1,1001) if i%10==0])\n",
        "a = np.array(l1)\n",
        "print(f\"NumPy array:\\n{a}\")\n",
        "print(f\"Converted Pandas series:\\n{pd.Series(a)}\")"
      ],
      "execution_count": null,
      "outputs": [
        {
          "output_type": "stream",
          "text": [
            "NumPy array:\n",
            "[  10   20   30   40   50   60   70   80   90  100  110  120  130  140\n",
            "  150  160  170  180  190  200  210  220  230  240  250  260  270  280\n",
            "  290  300  310  320  330  340  350  360  370  380  390  400  410  420\n",
            "  430  440  450  460  470  480  490  500  510  520  530  540  550  560\n",
            "  570  580  590  600  610  620  630  640  650  660  670  680  690  700\n",
            "  710  720  730  740  750  760  770  780  790  800  810  820  830  840\n",
            "  850  860  870  880  890  900  910  920  930  940  950  960  970  980\n",
            "  990 1000]\n",
            "Converted Pandas series:\n",
            "0       10\n",
            "1       20\n",
            "2       30\n",
            "3       40\n",
            "4       50\n",
            "      ... \n",
            "95     960\n",
            "96     970\n",
            "97     980\n",
            "98     990\n",
            "99    1000\n",
            "Length: 100, dtype: int64\n"
          ],
          "name": "stdout"
        }
      ]
    },
    {
      "cell_type": "markdown",
      "metadata": {
        "id": "H3WgjqE9Wouz",
        "colab_type": "text"
      },
      "source": [
        "#Write a Pandas program to convert a given Series to an array.\n",
        "#Sample series is ['100', '200', ‘300’,’400’,’500’,'python', '300.12', '400',’is’,’great’,’language’]\n"
      ]
    },
    {
      "cell_type": "code",
      "metadata": {
        "id": "8hKe6aMOWryu",
        "colab_type": "code",
        "colab": {
          "base_uri": "https://localhost:8080/",
          "height": 289
        },
        "outputId": "53653d80-dfa8-4541-d059-76c77ed215ca"
      },
      "source": [
        "import numpy as np\n",
        "s1 = pd.Series(['100', '200', '300','400','500','python', '300.12', '400','is','great','language'])\n",
        "print(f\"Original Data Series:\\n{s1}\")\n",
        "print(f\"Series to an array:\\n{np.array(s1.values.tolist())}\")"
      ],
      "execution_count": null,
      "outputs": [
        {
          "output_type": "stream",
          "text": [
            "Original Data Series:\n",
            "0          100\n",
            "1          200\n",
            "2          300\n",
            "3          400\n",
            "4          500\n",
            "5       python\n",
            "6       300.12\n",
            "7          400\n",
            "8           is\n",
            "9        great\n",
            "10    language\n",
            "dtype: object\n",
            "Series to an array:\n",
            "['100' '200' '300' '400' '500' 'python' '300.12' '400' 'is' 'great'\n",
            " 'language']\n"
          ],
          "name": "stdout"
        }
      ]
    },
    {
      "cell_type": "markdown",
      "metadata": {
        "id": "tP5hcUv2XJaG",
        "colab_type": "text"
      },
      "source": [
        "#Write a Pandas program to sort a given Series.\n",
        "#Sample series is ['100', '200', ‘300’,’400’,’500’,'python', '300.12', '400',’is’,’great’,’language’]\n"
      ]
    },
    {
      "cell_type": "code",
      "metadata": {
        "id": "J3ZGdsNRXKmu",
        "colab_type": "code",
        "colab": {
          "base_uri": "https://localhost:8080/",
          "height": 442
        },
        "outputId": "819d63f9-c28c-4981-9550-89af0b2045b3"
      },
      "source": [
        "import pandas as pd\n",
        "s = pd.Series(['100', '200', '300','400','500','python', '300.12', '400','is','great','language'])\n",
        "print(f\"Original Data Series:\\n{s}\")\n",
        "print(pd.Series(s).sort_values())"
      ],
      "execution_count": null,
      "outputs": [
        {
          "output_type": "stream",
          "text": [
            "Original Data Series:\n",
            "0          100\n",
            "1          200\n",
            "2          300\n",
            "3          400\n",
            "4          500\n",
            "5       python\n",
            "6       300.12\n",
            "7          400\n",
            "8           is\n",
            "9        great\n",
            "10    language\n",
            "dtype: object\n",
            "0          100\n",
            "1          200\n",
            "2          300\n",
            "6       300.12\n",
            "3          400\n",
            "7          400\n",
            "4          500\n",
            "9        great\n",
            "8           is\n",
            "10    language\n",
            "5       python\n",
            "dtype: object\n"
          ],
          "name": "stdout"
        }
      ]
    },
    {
      "cell_type": "markdown",
      "metadata": {
        "id": "7rlVTUOnX6kl",
        "colab_type": "text"
      },
      "source": [
        "#Write a Pandas program to create a subsets of a given series based on value and condition.\n",
        "#Sample NumPy array: d1 = [10, 20, 30, 40, 50... 1000]\n",
        "# value and condtion :  Subset 1 :numbers divisable by 7  Subset 2 : numbers divisable by 5\n"
      ]
    },
    {
      "cell_type": "code",
      "metadata": {
        "id": "ovhyIEWXX7uj",
        "colab_type": "code",
        "colab": {
          "base_uri": "https://localhost:8080/",
          "height": 714
        },
        "outputId": "46e39fe6-439e-42c5-a795-6d789b1465fa"
      },
      "source": [
        "import pandas as pd\n",
        "s = pd.Series(([i for i in range(1,1001) if i%10==0]))\n",
        "print(f\"Original Data Series:\\n{s}\")\n",
        "print(f\"Subset of the above Data Series:\\n{s[s%7==0]}\\n{s[s%5==0]}\")\n"
      ],
      "execution_count": null,
      "outputs": [
        {
          "output_type": "stream",
          "text": [
            "Original Data Series:\n",
            "0       10\n",
            "1       20\n",
            "2       30\n",
            "3       40\n",
            "4       50\n",
            "      ... \n",
            "95     960\n",
            "96     970\n",
            "97     980\n",
            "98     990\n",
            "99    1000\n",
            "Length: 100, dtype: int64\n",
            "Subset of the above Data Series:\n",
            "6      70\n",
            "13    140\n",
            "20    210\n",
            "27    280\n",
            "34    350\n",
            "41    420\n",
            "48    490\n",
            "55    560\n",
            "62    630\n",
            "69    700\n",
            "76    770\n",
            "83    840\n",
            "90    910\n",
            "97    980\n",
            "dtype: int64\n",
            "0       10\n",
            "1       20\n",
            "2       30\n",
            "3       40\n",
            "4       50\n",
            "      ... \n",
            "95     960\n",
            "96     970\n",
            "97     980\n",
            "98     990\n",
            "99    1000\n",
            "Length: 100, dtype: int64\n"
          ],
          "name": "stdout"
        }
      ]
    },
    {
      "cell_type": "markdown",
      "metadata": {
        "id": "urjvvBZRaAe2",
        "colab_type": "text"
      },
      "source": [
        "#Write a Pandas program to create the mean and standard deviation, maximum and minimum of the data of a given Series of the prime numbers upto 1000"
      ]
    },
    {
      "cell_type": "code",
      "metadata": {
        "id": "-y0hOr1uaBze",
        "colab_type": "code",
        "colab": {
          "base_uri": "https://localhost:8080/",
          "height": 374
        },
        "outputId": "1a8fd2f7-63a7-4d80-882a-f4d3cecac569"
      },
      "source": [
        "import pandas as pd\n",
        "l=[2]\n",
        "for v in range(3,1001):\n",
        "  for n in range(2, v): \n",
        "    if (v % n) == 0: \n",
        "      break\n",
        "    elif(n==v-1):\n",
        "      l.append(v)\n",
        "s = pd.Series(l)\n",
        "print(f\"Original Data Series:\\n{s}\")\n",
        "print(f\"Mean of the said Data Series:\\n{s.mean()}\")\n",
        "print(f\"Standard deviation of the said Data Series:\\n{s.std()}\")\n",
        "print(f\"Max of the said Data Series:\\n{s.max()}\")\n",
        "print(f\"Min of the said Data Series:\\n{s.min()}\")"
      ],
      "execution_count": 26,
      "outputs": [
        {
          "output_type": "stream",
          "text": [
            "Original Data Series:\n",
            "0        2\n",
            "1        3\n",
            "2        5\n",
            "3        7\n",
            "4       11\n",
            "      ... \n",
            "163    971\n",
            "164    977\n",
            "165    983\n",
            "166    991\n",
            "167    997\n",
            "Length: 168, dtype: int64\n",
            "Mean of the said Data Series:\n",
            "453.13690476190476\n",
            "Standard deviation of the said Data Series:\n",
            "298.19241719366255\n",
            "Max of the said Data Series:\n",
            "997\n",
            "Min of the said Data Series:\n",
            "2\n"
          ],
          "name": "stdout"
        }
      ]
    },
    {
      "cell_type": "markdown",
      "metadata": {
        "id": "tbSpsrjRfpxq",
        "colab_type": "text"
      },
      "source": [
        "#Write a Pandas program to get the elements of an array values into column-wise.\n",
        "#Sample data: {‘X’:[All odd numbers but not divisable by 7 upto 1000], 'Y':[ All even numbers but not divisable by 5 upto 1000 ],'Z':[ All odd numbers but not divisable by 3 upto 1000]}\n"
      ]
    },
    {
      "cell_type": "code",
      "metadata": {
        "id": "OZsS3V10fs0k",
        "colab_type": "code",
        "colab": {
          "base_uri": "https://localhost:8080/",
          "height": 436
        },
        "outputId": "3474768c-ad47-4a81-c811-5bdc722319ff"
      },
      "source": [
        "import pandas as pd\n",
        "l1=([i for i in range(0,1001) if i%7!=0 and i%2!=0])\n",
        "l2=([i for i in range(0,1001) if i%2==0 and i%5!=0])\n",
        "l3=([i for i in range(0,1001) if i%2!=0 and i%3!=0])\n",
        "if(len(l1)>len(l2) and len(l1)>len(l3)):\n",
        "  c=1\n",
        "elif(len(l2)>len(l1) and len(l3)>len(l3)):\n",
        "  c=2\n",
        "else:\n",
        "  c=3\n",
        "if(c==1):\n",
        "  for i in range(len(l1)-len(l2)):\n",
        "    l2.append(0)\n",
        "  for i in range(len(l1)-len(l3)):\n",
        "    l3.append(0)\n",
        "if(c==2):\n",
        "  for i in range(len(l2)-len(l1)):\n",
        "    l1.append(0)\n",
        "  for i in range(len(l2)-len(l3)):\n",
        "    l3.append(0)\n",
        "if(c==3):\n",
        "  for i in range(len(l3)-len(l2)):\n",
        "    l2.append(0)\n",
        "  for i in range(len(l3)-len(l1)):\n",
        "    l1.append(0)\n",
        "print(len(l1),len(l2),len(l3))\n",
        "df = pd.DataFrame({'X':l1, 'Y':l2,'Z':l3});\n",
        "df"
      ],
      "execution_count": 73,
      "outputs": [
        {
          "output_type": "stream",
          "text": [
            "429 429 429\n"
          ],
          "name": "stdout"
        },
        {
          "output_type": "execute_result",
          "data": {
            "text/html": [
              "<div>\n",
              "<style scoped>\n",
              "    .dataframe tbody tr th:only-of-type {\n",
              "        vertical-align: middle;\n",
              "    }\n",
              "\n",
              "    .dataframe tbody tr th {\n",
              "        vertical-align: top;\n",
              "    }\n",
              "\n",
              "    .dataframe thead th {\n",
              "        text-align: right;\n",
              "    }\n",
              "</style>\n",
              "<table border=\"1\" class=\"dataframe\">\n",
              "  <thead>\n",
              "    <tr style=\"text-align: right;\">\n",
              "      <th></th>\n",
              "      <th>X</th>\n",
              "      <th>Y</th>\n",
              "      <th>Z</th>\n",
              "    </tr>\n",
              "  </thead>\n",
              "  <tbody>\n",
              "    <tr>\n",
              "      <th>0</th>\n",
              "      <td>1</td>\n",
              "      <td>2</td>\n",
              "      <td>1</td>\n",
              "    </tr>\n",
              "    <tr>\n",
              "      <th>1</th>\n",
              "      <td>3</td>\n",
              "      <td>4</td>\n",
              "      <td>5</td>\n",
              "    </tr>\n",
              "    <tr>\n",
              "      <th>2</th>\n",
              "      <td>5</td>\n",
              "      <td>6</td>\n",
              "      <td>7</td>\n",
              "    </tr>\n",
              "    <tr>\n",
              "      <th>3</th>\n",
              "      <td>9</td>\n",
              "      <td>8</td>\n",
              "      <td>11</td>\n",
              "    </tr>\n",
              "    <tr>\n",
              "      <th>4</th>\n",
              "      <td>11</td>\n",
              "      <td>12</td>\n",
              "      <td>13</td>\n",
              "    </tr>\n",
              "    <tr>\n",
              "      <th>...</th>\n",
              "      <td>...</td>\n",
              "      <td>...</td>\n",
              "      <td>...</td>\n",
              "    </tr>\n",
              "    <tr>\n",
              "      <th>424</th>\n",
              "      <td>991</td>\n",
              "      <td>0</td>\n",
              "      <td>0</td>\n",
              "    </tr>\n",
              "    <tr>\n",
              "      <th>425</th>\n",
              "      <td>993</td>\n",
              "      <td>0</td>\n",
              "      <td>0</td>\n",
              "    </tr>\n",
              "    <tr>\n",
              "      <th>426</th>\n",
              "      <td>995</td>\n",
              "      <td>0</td>\n",
              "      <td>0</td>\n",
              "    </tr>\n",
              "    <tr>\n",
              "      <th>427</th>\n",
              "      <td>997</td>\n",
              "      <td>0</td>\n",
              "      <td>0</td>\n",
              "    </tr>\n",
              "    <tr>\n",
              "      <th>428</th>\n",
              "      <td>999</td>\n",
              "      <td>0</td>\n",
              "      <td>0</td>\n",
              "    </tr>\n",
              "  </tbody>\n",
              "</table>\n",
              "<p>429 rows × 3 columns</p>\n",
              "</div>"
            ],
            "text/plain": [
              "       X   Y   Z\n",
              "0      1   2   1\n",
              "1      3   4   5\n",
              "2      5   6   7\n",
              "3      9   8  11\n",
              "4     11  12  13\n",
              "..   ...  ..  ..\n",
              "424  991   0   0\n",
              "425  993   0   0\n",
              "426  995   0   0\n",
              "427  997   0   0\n",
              "428  999   0   0\n",
              "\n",
              "[429 rows x 3 columns]"
            ]
          },
          "metadata": {
            "tags": []
          },
          "execution_count": 73
        }
      ]
    },
    {
      "cell_type": "markdown",
      "metadata": {
        "id": "cOkggpwOh9fu",
        "colab_type": "text"
      },
      "source": [
        "#Write a Pandas program to display the first 10 rows of the DataFrame for any particular three fields.Write a Pandas program to get the details of theseventh movie of the DataFrame for any particular three fields (movie_metadata.csv file).\n"
      ]
    },
    {
      "cell_type": "code",
      "metadata": {
        "id": "2h5TszKyiCDj",
        "colab_type": "code",
        "colab": {
          "base_uri": "https://localhost:8080/",
          "height": 221
        },
        "outputId": "257e6df2-f5b5-4b2b-ea6a-93291a0f04e7"
      },
      "source": [
        "import pandas as pd\n",
        "df = pd.read_csv('/movies.csv')\n",
        "small_df = df[['rating','budget','year']]\n",
        "print(f\"First 10 rows of the DataFrame:\\n{small_df.head(10)}\")"
      ],
      "execution_count": 34,
      "outputs": [
        {
          "output_type": "stream",
          "text": [
            "First 10 rows of the DataFrame:\n",
            "   rating budget  year\n",
            "0       5   20cr  2012\n",
            "1       3  10cr   2015\n",
            "2       4   5cr   2016\n",
            "3       5   2cr   2017\n",
            "4       5  40cr   2018\n",
            "5       3   80cr  2019\n",
            "6       5  40cr   2015\n",
            "7       5  50cr   2014\n",
            "8       4   20cr  2011\n",
            "9       5  30cr   2012\n"
          ],
          "name": "stdout"
        }
      ]
    },
    {
      "cell_type": "markdown",
      "metadata": {
        "id": "oJk713o5mpVT",
        "colab_type": "text"
      },
      "source": [
        "#Write a Pandas program to sort the DataFrame based on title_year from dataset of movie_metadata.csv for any particular three fields "
      ]
    },
    {
      "cell_type": "code",
      "metadata": {
        "id": "MnpchGU-mq2u",
        "colab_type": "code",
        "colab": {
          "base_uri": "https://localhost:8080/",
          "height": 238
        },
        "outputId": "a859e341-5157-4083-a284-14850a1758d5"
      },
      "source": [
        "\n",
        "import pandas as pd\n",
        "import numpy as np\n",
        "df = pd.read_csv('/movies.csv')\n",
        "small_df = df[['rating','budget','year']]\n",
        "print(f\"sorted by year:\\n{small_df.sort_values('year')}\")\n"
      ],
      "execution_count": 37,
      "outputs": [
        {
          "output_type": "stream",
          "text": [
            "sorted by year:\n",
            "    rating budget  year\n",
            "10       5  50cr   2010\n",
            "8        4   20cr  2011\n",
            "0        5   20cr  2012\n",
            "9        5  30cr   2012\n",
            "7        5  50cr   2014\n",
            "1        3  10cr   2015\n",
            "6        5  40cr   2015\n",
            "2        4   5cr   2016\n",
            "3        5   2cr   2017\n",
            "4        5  40cr   2018\n",
            "5        3   80cr  2019\n"
          ],
          "name": "stdout"
        }
      ]
    },
    {
      "cell_type": "markdown",
      "metadata": {
        "id": "QfL88ZNnna0g",
        "colab_type": "text"
      },
      "source": [
        "#Write a Pandas program to sort the DataFrame based on country  and language from dataset of  movie_metadata.csv"
      ]
    },
    {
      "cell_type": "code",
      "metadata": {
        "id": "fq8FBxT-nb-9",
        "colab_type": "code",
        "colab": {
          "base_uri": "https://localhost:8080/",
          "height": 459
        },
        "outputId": "d5fa51e2-4586-4246-8f27-61deac29063f"
      },
      "source": [
        "import pandas as pd\n",
        "import numpy as np\n",
        "df = pd.read_csv('/movies.csv')\n",
        "print(f\"sorted by country:\\n{df.sort_values('country')}\")\n",
        "print(f\"sorted by lang:\\n{df.sort_values('lang')}\")"
      ],
      "execution_count": 39,
      "outputs": [
        {
          "output_type": "stream",
          "text": [
            "sorted by country:\n",
            "    rating budget  year    country     lang\n",
            "10       5  50cr   2010    america  english\n",
            "2        4   5cr   2016  australia  english\n",
            "6        5  40cr   2015     brazil  english\n",
            "4        5  40cr   2018      chili  spanish\n",
            "1        3  10cr   2015      china    hindi\n",
            "0        5   20cr  2012      india  kannada\n",
            "7        5  50cr   2014      lanka  spanish\n",
            "3        5   2cr   2017     london  english\n",
            "5        3   80cr  2019        pak  english\n",
            "9        5  30cr   2012      rusia  spanish\n",
            "8        4   20cr  2011      tibet  spanish\n",
            "sorted by lang:\n",
            "    rating budget  year    country     lang\n",
            "2        4   5cr   2016  australia  english\n",
            "3        5   2cr   2017     london  english\n",
            "5        3   80cr  2019        pak  english\n",
            "6        5  40cr   2015     brazil  english\n",
            "10       5  50cr   2010    america  english\n",
            "1        3  10cr   2015      china    hindi\n",
            "0        5   20cr  2012      india  kannada\n",
            "4        5  40cr   2018      chili  spanish\n",
            "7        5  50cr   2014      lanka  spanish\n",
            "8        4   20cr  2011      tibet  spanish\n",
            "9        5  30cr   2012      rusia  spanish\n"
          ],
          "name": "stdout"
        }
      ]
    },
    {
      "cell_type": "markdown",
      "metadata": {
        "id": "P2BDlBUzp52J",
        "colab_type": "text"
      },
      "source": [
        "#Write a Pandas program to get the details of the seventh movie of the DataFrame for any particular three fields (movie_metadatacsvfile)."
      ]
    },
    {
      "cell_type": "code",
      "metadata": {
        "id": "O5MUOzwqqEJq",
        "colab_type": "code",
        "colab": {
          "base_uri": "https://localhost:8080/",
          "height": 85
        },
        "outputId": "3efc4a83-c57e-4054-b848-26212439ea6b"
      },
      "source": [
        "import pandas as pd\n",
        "import numpy as np\n",
        "df = pd.read_csv('/movies.csv')\n",
        "small_df = df[['rating','budget','year']]\n",
        "print(f\"{small_df.iloc[7]}\")"
      ],
      "execution_count": 47,
      "outputs": [
        {
          "output_type": "stream",
          "text": [
            "rating        5\n",
            "budget    50cr \n",
            "year       2014\n",
            "Name: 7, dtype: object\n"
          ],
          "name": "stdout"
        }
      ]
    },
    {
      "cell_type": "markdown",
      "metadata": {
        "id": "FB740nv5rmre",
        "colab_type": "text"
      },
      "source": [
        "#Write a Pandas program to get the details of the movies record number divisable by 5 of the DataFrame (movie_metadata.csv file)."
      ]
    },
    {
      "cell_type": "code",
      "metadata": {
        "id": "aPUYkOJ8rpiq",
        "colab_type": "code",
        "colab": {
          "base_uri": "https://localhost:8080/",
          "height": 187
        },
        "outputId": "4777c520-9671-449f-bed8-9865bd19e54b"
      },
      "source": [
        "import pandas as pd\n",
        "import numpy as np\n",
        "df = pd.read_csv('/movies.csv')\n",
        "small_df = df[['rating','budget','year']]\n",
        "for i in range(1,len(df)+1):\n",
        "  if i%5==0:\n",
        "    print(f\"{small_df.iloc[i]}\\n\")"
      ],
      "execution_count": 54,
      "outputs": [
        {
          "output_type": "stream",
          "text": [
            "rating       3\n",
            "budget    80cr\n",
            "year      2019\n",
            "Name: 5, dtype: object\n",
            "\n",
            "rating        5\n",
            "budget    50cr \n",
            "year       2010\n",
            "Name: 10, dtype: object\n",
            "\n"
          ],
          "name": "stdout"
        }
      ]
    },
    {
      "cell_type": "markdown",
      "metadata": {
        "id": "9T6xlFlEspqf",
        "colab_type": "text"
      },
      "source": [
        "#Write a Pandas program to find the mean and standard deviation, maximum and minimum of the data of  50 students Python marks stored in a CSV file called Python_mark.csv( you have to create the file yourself like rollno,mark for 50 records)"
      ]
    },
    {
      "cell_type": "code",
      "metadata": {
        "id": "6wztkdHZsq7k",
        "colab_type": "code",
        "colab": {
          "base_uri": "https://localhost:8080/",
          "height": 952
        },
        "outputId": "c5e9983b-8a32-4fa2-91a8-af45bb23b74b"
      },
      "source": [
        "import pandas as pd\n",
        "df = pd.read_csv('/Python_marks.csv')\n",
        "print(\"file content: \",df)\n",
        "print ('Mean : ' + str(df['marks'].mean()))\n",
        "print ('S.D: ' + str(df['marks'].std() ))\n",
        "print ('Minimum : ' + str(df['marks'].min()))\n",
        "print ('Maximum : ' + str(df['marks'].max()))"
      ],
      "execution_count": 70,
      "outputs": [
        {
          "output_type": "stream",
          "text": [
            "file content:      rollno  marks\n",
            "0        1     60\n",
            "1        2     75\n",
            "2        3     56\n",
            "3        4     88\n",
            "4        5     92\n",
            "5        6     78\n",
            "6        7     77\n",
            "7        8     25\n",
            "8        9     23\n",
            "9       10     46\n",
            "10      11     42\n",
            "11      12     25\n",
            "12      13     58\n",
            "13      14     38\n",
            "14      15     56\n",
            "15      16     89\n",
            "16      17     74\n",
            "17      18     12\n",
            "18      19     56\n",
            "19      20     85\n",
            "20      21     35\n",
            "21      22     28\n",
            "22      23     27\n",
            "23      24     26\n",
            "24      25     24\n",
            "25      26     21\n",
            "26      27      1\n",
            "27      28     48\n",
            "28      29     46\n",
            "29      30     43\n",
            "30      31     98\n",
            "31      32     99\n",
            "32      33     90\n",
            "33      34     64\n",
            "34      35     70\n",
            "35      36     25\n",
            "36      37     64\n",
            "37      38     65\n",
            "38      39     68\n",
            "39      40     71\n",
            "40      41     71\n",
            "41      42     36\n",
            "42      43     32\n",
            "43      44     39\n",
            "44      45     72\n",
            "45      46     64\n",
            "46      47     25\n",
            "47      48     21\n",
            "48      49     36\n",
            "49      50     64\n",
            "Mean : 52.56\n",
            "S.D: 24.90484749143083\n",
            "Minimum : 1\n",
            "Maximum : 99\n"
          ],
          "name": "stdout"
        }
      ]
    },
    {
      "cell_type": "markdown",
      "metadata": {
        "id": "DPG9HMMStR5b",
        "colab_type": "text"
      },
      "source": [
        "#Write a NumPy program to create a random 4x4 array and extract the 2nd and 3rd rows of the  array and store them into a variable."
      ]
    },
    {
      "cell_type": "code",
      "metadata": {
        "id": "SPD8Ct0etSLc",
        "colab_type": "code",
        "colab": {
          "base_uri": "https://localhost:8080/",
          "height": 136
        },
        "outputId": "299a90e5-dcb4-4b04-ef7d-98aa7862ab1b"
      },
      "source": [
        "import numpy as np\n",
        "x = np.random.random((4,4))\n",
        "print(x)\n",
        "print(\"2nd and 3rd rows of the above array:\")\n",
        "y= x[1:3, :]\n",
        "print(y)"
      ],
      "execution_count": 55,
      "outputs": [
        {
          "output_type": "stream",
          "text": [
            "[[0.96244894 0.0283718  0.21566208 0.94880569]\n",
            " [0.6814846  0.42604031 0.58611013 0.26035238]\n",
            " [0.91887328 0.74665083 0.02924885 0.88392766]\n",
            " [0.43414508 0.60956546 0.71604352 0.59052842]]\n",
            "2nd and 3rd rows of the above array:\n",
            "[[0.6814846  0.42604031 0.58611013 0.26035238]\n",
            " [0.91887328 0.74665083 0.02924885 0.88392766]]\n"
          ],
          "name": "stdout"
        }
      ]
    },
    {
      "cell_type": "markdown",
      "metadata": {
        "id": "PYzdEDAUtrV_",
        "colab_type": "text"
      },
      "source": [
        "#Write a NumPy program to create a 10x10 array with random values and find the minimum and maximum values."
      ]
    },
    {
      "cell_type": "code",
      "metadata": {
        "id": "tWv_MFNEtsfA",
        "colab_type": "code",
        "colab": {
          "base_uri": "https://localhost:8080/",
          "height": 408
        },
        "outputId": "f9d19cdb-6964-4b5c-ec30-fa28cf6cfa84"
      },
      "source": [
        "import numpy as np\n",
        "x = np.random.random((10,10))\n",
        "print(\"Original Array:\")\n",
        "print(x) \n",
        "xmin, xmax = x.min(), x.max()\n",
        "print(\"Minimum and Maximum Values:\")\n",
        "print(xmin, xmax)"
      ],
      "execution_count": 56,
      "outputs": [
        {
          "output_type": "stream",
          "text": [
            "Original Array:\n",
            "[[0.4493696  0.93087868 0.93858012 0.96164379 0.18387693 0.81688449\n",
            "  0.07414305 0.90090037 0.92693359 0.67329081]\n",
            " [0.14944393 0.89427737 0.10636729 0.63429678 0.67232901 0.70018294\n",
            "  0.68777376 0.75885835 0.53043478 0.71060178]\n",
            " [0.60023823 0.435683   0.7278877  0.99868733 0.55701918 0.84587016\n",
            "  0.03279109 0.18907314 0.6527354  0.7596839 ]\n",
            " [0.00583821 0.52524311 0.47828444 0.36917246 0.03202329 0.67921544\n",
            "  0.63717212 0.94372142 0.66748708 0.93399249]\n",
            " [0.31303448 0.13276816 0.36832041 0.9692967  0.55740554 0.43232566\n",
            "  0.18976289 0.86302982 0.67675324 0.18739252]\n",
            " [0.7333957  0.25999399 0.95010408 0.3643134  0.74167207 0.13731039\n",
            "  0.23085523 0.09586521 0.60079991 0.06228241]\n",
            " [0.44634305 0.10278505 0.90572319 0.82265127 0.25854033 0.55851643\n",
            "  0.20877212 0.71695193 0.46764779 0.57656219]\n",
            " [0.50311045 0.81345733 0.28590073 0.26110221 0.3553416  0.41983361\n",
            "  0.0141252  0.19618702 0.76294163 0.59597375]\n",
            " [0.11224695 0.04387789 0.14487174 0.14042893 0.69770816 0.94143858\n",
            "  0.56164088 0.35875625 0.82612923 0.43739566]\n",
            " [0.70236226 0.00454947 0.07291762 0.00935707 0.70724568 0.52777725\n",
            "  0.34831965 0.95400971 0.17865663 0.38436611]]\n",
            "Minimum and Maximum Values:\n",
            "0.004549466050169815 0.9986873268239845\n"
          ],
          "name": "stdout"
        }
      ]
    },
    {
      "cell_type": "markdown",
      "metadata": {
        "id": "LGGVa0CQt0BQ",
        "colab_type": "text"
      },
      "source": [
        "#Write a NumPy program to generate 8 random integers between 100 and 300"
      ]
    },
    {
      "cell_type": "code",
      "metadata": {
        "id": "P1WN1MS3t3lx",
        "colab_type": "code",
        "colab": {
          "base_uri": "https://localhost:8080/",
          "height": 34
        },
        "outputId": "ed5c8dcf-8f2b-4731-82c1-515dd42d925d"
      },
      "source": [
        "import numpy as np\n",
        "x = np.random.randint(low=100, high=300, size=8)\n",
        "print(x)"
      ],
      "execution_count": 57,
      "outputs": [
        {
          "output_type": "stream",
          "text": [
            "[257 249 133 283 294 254 223 265]\n"
          ],
          "name": "stdout"
        }
      ]
    },
    {
      "cell_type": "markdown",
      "metadata": {
        "id": "g2bKFdGwuIIx",
        "colab_type": "text"
      },
      "source": [
        "#Write a NumPy program to create a random integer nos of size 20 and sort it."
      ]
    },
    {
      "cell_type": "code",
      "metadata": {
        "id": "ALMavQ-ouJK1",
        "colab_type": "code",
        "colab": {
          "base_uri": "https://localhost:8080/",
          "height": 51
        },
        "outputId": "d66ef5cb-f849-4b0f-bb2e-608db4af496f"
      },
      "source": [
        "import numpy as np\n",
        "x=np.arange(20)\n",
        "np.random.shuffle(x)\n",
        "print(x)\n",
        "x.sort()\n",
        "print(x)"
      ],
      "execution_count": 61,
      "outputs": [
        {
          "output_type": "stream",
          "text": [
            "[ 4 14  8  7 16  6 10 17  0 11  9  2 15 12 13 18  3 19  1  5]\n",
            "[ 0  1  2  3  4  5  6  7  8  9 10 11 12 13 14 15 16 17 18 19]\n"
          ],
          "name": "stdout"
        }
      ]
    }
  ]
}