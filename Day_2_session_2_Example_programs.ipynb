{
  "nbformat": 4,
  "nbformat_minor": 0,
  "metadata": {
    "colab": {
      "name": "Day 2  session 2 Example programs.ipynb",
      "provenance": [],
      "collapsed_sections": [],
      "authorship_tag": "ABX9TyNKBFvT5ynrzIi6BW5FFbkF",
      "include_colab_link": true
    },
    "kernelspec": {
      "name": "python3",
      "display_name": "Python 3"
    }
  },
  "cells": [
    {
      "cell_type": "markdown",
      "metadata": {
        "id": "view-in-github",
        "colab_type": "text"
      },
      "source": [
        "<a href=\"https://colab.research.google.com/github/Shrinivasakunder/certification-and-online-coding/blob/master/Day_2_session_2_Example_programs.ipynb\" target=\"_parent\"><img src=\"https://colab.research.google.com/assets/colab-badge.svg\" alt=\"Open In Colab\"/></a>"
      ]
    },
    {
      "cell_type": "markdown",
      "metadata": {
        "id": "tPxnSzsLX6Tf",
        "colab_type": "text"
      },
      "source": [
        "#Removes all elements of dictionary dict"
      ]
    },
    {
      "cell_type": "code",
      "metadata": {
        "id": "a2wJlTweXl-L",
        "colab_type": "code",
        "colab": {
          "base_uri": "https://localhost:8080/",
          "height": 51
        },
        "outputId": "01248149-c66b-49b7-d8dd-d1352b62abfe"
      },
      "source": [
        "dict = {'Name': 'Zara', 'Age': 7};\n",
        "print(\"Start Len : %d\" %  len(dict))\n",
        "dict.clear()\n",
        "print(\"End Len : %d\" %  len(dict))\n"
      ],
      "execution_count": 1,
      "outputs": [
        {
          "output_type": "stream",
          "text": [
            "Start Len : 2\n",
            "End Len : 0\n"
          ],
          "name": "stdout"
        }
      ]
    },
    {
      "cell_type": "markdown",
      "metadata": {
        "id": "SI3k7bqJYNjO",
        "colab_type": "text"
      },
      "source": [
        "#Returns a list of dict's (key, value) tuple pairs"
      ]
    },
    {
      "cell_type": "code",
      "metadata": {
        "id": "NArqEPZhYNuw",
        "colab_type": "code",
        "colab": {
          "base_uri": "https://localhost:8080/",
          "height": 34
        },
        "outputId": "73658e35-71db-41b2-a158-b376302c8eae"
      },
      "source": [
        "\n",
        "\n",
        "dict = {'Name': 'Zara', 'Age': 7}\n",
        "print (\"Value : %s\" %  dict.items())\n"
      ],
      "execution_count": 2,
      "outputs": [
        {
          "output_type": "stream",
          "text": [
            "Value : dict_items([('Name', 'Zara'), ('Age', 7)])\n"
          ],
          "name": "stdout"
        }
      ]
    },
    {
      "cell_type": "markdown",
      "metadata": {
        "id": "NTYBKCSmYWhh",
        "colab_type": "text"
      },
      "source": [
        "#Returns a copy of dictionary dict\n"
      ]
    },
    {
      "cell_type": "code",
      "metadata": {
        "id": "jWXWlpyEYWtz",
        "colab_type": "code",
        "colab": {
          "base_uri": "https://localhost:8080/",
          "height": 34
        },
        "outputId": "d0f6e34e-458b-4994-8a61-f1b0707e94ff"
      },
      "source": [
        "\n",
        "dict1 = {'Name': 'Zara', 'Age': 7};\n",
        "dict2 = dict1.copy()\n",
        "print (\"New Dictinary : %s\" %  str(dict2))\n"
      ],
      "execution_count": 4,
      "outputs": [
        {
          "output_type": "stream",
          "text": [
            "New Dictinary : {'Name': 'Zara', 'Age': 7}\n"
          ],
          "name": "stdout"
        }
      ]
    },
    {
      "cell_type": "markdown",
      "metadata": {
        "id": "fKHsSjlXYpHJ",
        "colab_type": "text"
      },
      "source": [
        "#Python Program to Generate a Dictionary that Contains Numbers (between 1 and n) in the Form (x,x*x). \n"
      ]
    },
    {
      "cell_type": "code",
      "metadata": {
        "id": "RBhDb8wrYpX4",
        "colab_type": "code",
        "colab": {
          "base_uri": "https://localhost:8080/",
          "height": 51
        },
        "outputId": "1092adcb-997a-4359-d031-353909e0913e"
      },
      "source": [
        "n=int(input(\"Enter a number:\"))\n",
        "d={x:x*x for x in range(1,n+1)}\n",
        "print(d)\n"
      ],
      "execution_count": 13,
      "outputs": [
        {
          "output_type": "stream",
          "text": [
            "Enter a number:5\n",
            "{1: 1, 2: 4, 3: 9, 4: 16, 5: 25}\n"
          ],
          "name": "stdout"
        }
      ]
    },
    {
      "cell_type": "markdown",
      "metadata": {
        "id": "0iJAUwuoYySS",
        "colab_type": "text"
      },
      "source": [
        "#Python Program to Sum All the Items in a Dictionary \n"
      ]
    },
    {
      "cell_type": "code",
      "metadata": {
        "id": "aOQsQqfAYyc_",
        "colab_type": "code",
        "colab": {
          "base_uri": "https://localhost:8080/",
          "height": 51
        },
        "outputId": "7823eee3-1e0b-4637-bac5-0e8579ce3936"
      },
      "source": [
        "d={'A':100,'B':540,'C':239}\n",
        "print(\"Total sum of values in the dictionary:\")\n",
        "print(sum(d.values()))\n"
      ],
      "execution_count": 6,
      "outputs": [
        {
          "output_type": "stream",
          "text": [
            "Total sum of values in the dictionary:\n",
            "879\n"
          ],
          "name": "stdout"
        }
      ]
    },
    {
      "cell_type": "markdown",
      "metadata": {
        "id": "EkBnuFTvZewG",
        "colab_type": "text"
      },
      "source": [
        "#Python Program to Remove the Given Key from a Dictionary \n"
      ]
    },
    {
      "cell_type": "code",
      "metadata": {
        "id": "Xj70HPZVZe_i",
        "colab_type": "code",
        "colab": {
          "base_uri": "https://localhost:8080/",
          "height": 102
        },
        "outputId": "2acbcc5f-d18a-4e7f-dcc7-6ab0fe079cda"
      },
      "source": [
        "d = {'a':1,'b':2,'c':3,'d':4}\n",
        "print(\"Initial dictionary\")\n",
        "print(d)\n",
        "key=input(\"Enter the key to delete(a-d):\")\n",
        "if key in d: \n",
        "    del d[key]\n",
        "else:\n",
        "    print(\"Key not found!\")\n",
        "    exit(0)\n",
        "print(\"Updated dictionary\")\n",
        "print(d)\n"
      ],
      "execution_count": 14,
      "outputs": [
        {
          "output_type": "stream",
          "text": [
            "Initial dictionary\n",
            "{'a': 1, 'b': 2, 'c': 3, 'd': 4}\n",
            "Enter the key to delete(a-d):c\n",
            "Updated dictionary\n",
            "{'a': 1, 'b': 2, 'd': 4}\n"
          ],
          "name": "stdout"
        }
      ]
    },
    {
      "cell_type": "markdown",
      "metadata": {
        "id": "W8mhdZ8gZneX",
        "colab_type": "text"
      },
      "source": [
        "#Python Program to add name and mark as key->value pair in  a Dictionary and print it.\n"
      ]
    },
    {
      "cell_type": "code",
      "metadata": {
        "id": "HelXelNSZnyP",
        "colab_type": "code",
        "colab": {
          "base_uri": "https://localhost:8080/",
          "height": 136
        },
        "outputId": "844e2887-6233-4364-eb09-5655c09691ee"
      },
      "source": [
        "n=int(input(\"Enter no of records\"))\n",
        "d={}\n",
        "for i in range(1,n+1):\n",
        "    name= input(\"Enter name %d\"%(i))\n",
        "    mark=int(input(\"Enter mark %d\"%(i)))\n",
        "    d[name]=mark\n",
        "    print (d)\n"
      ],
      "execution_count": 15,
      "outputs": [
        {
          "output_type": "stream",
          "text": [
            "Enter no of records2\n",
            "Enter name 1shri\n",
            "Enter mark 196\n",
            "{'shri': 96}\n",
            "Enter name 2kunder\n",
            "Enter mark 298\n",
            "{'shri': 96, 'kunder': 98}\n"
          ],
          "name": "stdout"
        }
      ]
    },
    {
      "cell_type": "markdown",
      "metadata": {
        "id": "ODPTXQtqZ9JA",
        "colab_type": "text"
      },
      "source": [
        "# Keys and Values example"
      ]
    },
    {
      "cell_type": "code",
      "metadata": {
        "id": "rCE7m_8VZ9TP",
        "colab_type": "code",
        "colab": {
          "base_uri": "https://localhost:8080/",
          "height": 513
        },
        "outputId": "93c62142-9fe4-48a4-bf16-2ba4252eb40a"
      },
      "source": [
        "    d={}\n",
        "    print (\" The dictionary elements are\")\n",
        "    for i in range(1,21):\n",
        "        d[i]=i**2\n",
        "    print (d)\n",
        "    # To print key and values\n",
        "    print (\"Key ==> Value are\")\n",
        "    for (k,v) in d.items():\t\n",
        "        print(k,\"  ==> \",v)\n",
        "  # To print key only\n",
        "    print (\"\\nTo print key only\")\n",
        "    for k in d.keys():\t\n",
        "        print(k, end=\" \")\n",
        "  #To print value only\n",
        "    print (\"\\nTo print values only\")\n",
        "    for v in d.values():\t\n",
        "        print(v, end=\" \")\n"
      ],
      "execution_count": 20,
      "outputs": [
        {
          "output_type": "stream",
          "text": [
            " The dictionary elements are\n",
            "{1: 1, 2: 4, 3: 9, 4: 16, 5: 25, 6: 36, 7: 49, 8: 64, 9: 81, 10: 100, 11: 121, 12: 144, 13: 169, 14: 196, 15: 225, 16: 256, 17: 289, 18: 324, 19: 361, 20: 400}\n",
            "Key ==> Value are\n",
            "1   ==>  1\n",
            "2   ==>  4\n",
            "3   ==>  9\n",
            "4   ==>  16\n",
            "5   ==>  25\n",
            "6   ==>  36\n",
            "7   ==>  49\n",
            "8   ==>  64\n",
            "9   ==>  81\n",
            "10   ==>  100\n",
            "11   ==>  121\n",
            "12   ==>  144\n",
            "13   ==>  169\n",
            "14   ==>  196\n",
            "15   ==>  225\n",
            "16   ==>  256\n",
            "17   ==>  289\n",
            "18   ==>  324\n",
            "19   ==>  361\n",
            "20   ==>  400\n",
            "\n",
            "To print key only\n",
            "1 2 3 4 5 6 7 8 9 10 11 12 13 14 15 16 17 18 19 20 \n",
            "To print values only\n",
            "1 4 9 16 25 36 49 64 81 100 121 144 169 196 225 256 289 324 361 400 "
          ],
          "name": "stdout"
        }
      ]
    },
    {
      "cell_type": "markdown",
      "metadata": {
        "id": "3pM1XcHyaxw2",
        "colab_type": "text"
      },
      "source": [
        "#Python program to convert 2 digit number   into words"
      ]
    },
    {
      "cell_type": "code",
      "metadata": {
        "id": "QLvRcq4fayAR",
        "colab_type": "code",
        "colab": {
          "base_uri": "https://localhost:8080/",
          "height": 51
        },
        "outputId": "fbd2fd7b-e183-49d0-e27b-9cca4c08879b"
      },
      "source": [
        "\n",
        "\n",
        "d={0:'',1:'one',2:'two',3:'three',4:'four',5:'five',6:'six',7:'seven',8:'eight',9:'nine',\\\n",
        "   10:'ten',11:'eleven',12:'twelve',13:'thirteen',14:'fourteen',15:'fifteen',16:'sixteen',\\\n",
        "   17:'seventeen',18:'eightteen',19:'nineteen',20:'twenty',30:'thirty',40:'fourty',50:'fifty',\\\n",
        "   60:'sixty',70:'seventy',80:'eighty',90:'ninty'}\n",
        "\n",
        "num=int(input(\"Enter the integer between 1 to 99:\"))\n",
        "if (num<=20):\n",
        "      print(d[num])\n",
        "if(num>20 and num<100):\n",
        "        if num%10==0:       \n",
        "            print(d[num])\n",
        "        else:\n",
        "            print(d[num//10*10]+\" \"+d[num%10])\n"
      ],
      "execution_count": 21,
      "outputs": [
        {
          "output_type": "stream",
          "text": [
            "Enter the integer between 1 to 99:84\n",
            "eighty four\n"
          ],
          "name": "stdout"
        }
      ]
    },
    {
      "cell_type": "markdown",
      "metadata": {
        "id": "WETMOLqsbm2E",
        "colab_type": "text"
      },
      "source": [
        "#How to sort a dictionary by values in Python"
      ]
    },
    {
      "cell_type": "code",
      "metadata": {
        "id": "Mvg5G-ZybnCb",
        "colab_type": "code",
        "colab": {
          "base_uri": "https://localhost:8080/",
          "height": 51
        },
        "outputId": "6474eee7-6ac5-4f31-d726-43d52f054d88"
      },
      "source": [
        "\n",
        "\n",
        "d = {\"Pierre\": 42, \"Anne\": 33, \"Zoe\": 24}\n",
        "#Use the sorted function and operator module\n",
        "import operator\n",
        "sorted_d = sorted(d.items(), key=operator.itemgetter(1))\n",
        "print(sorted_d)\n",
        "sorted_a= sorted(d.items(), key=operator.itemgetter(1),reverse=True)\n",
        "print(sorted_a)\n"
      ],
      "execution_count": 22,
      "outputs": [
        {
          "output_type": "stream",
          "text": [
            "[('Zoe', 24), ('Anne', 33), ('Pierre', 42)]\n",
            "[('Pierre', 42), ('Anne', 33), ('Zoe', 24)]\n"
          ],
          "name": "stdout"
        }
      ]
    },
    {
      "cell_type": "markdown",
      "metadata": {
        "id": "QlQmNEPbcBTw",
        "colab_type": "text"
      },
      "source": [
        "#Python Program to count the number of lines in a text file."
      ]
    },
    {
      "cell_type": "code",
      "metadata": {
        "id": "-V3PAkRndnOe",
        "colab_type": "code",
        "colab": {
          "base_uri": "https://localhost:8080/",
          "height": 68
        },
        "outputId": "c85b84b2-02dd-419e-91fb-d759f15342d8"
      },
      "source": [
        "\n",
        "fname = input(\"Enter file name: \")\n",
        "num_lines = 0\n",
        "with open(fname, 'r') as f:\n",
        "    for line in f:\n",
        "        num_lines += 1\n",
        "print(\"Number of lines:\")\n",
        "print(num_lines)\n"
      ],
      "execution_count": 45,
      "outputs": [
        {
          "output_type": "stream",
          "text": [
            "Enter file name: /shri.txt\n",
            "Number of lines:\n",
            "2\n"
          ],
          "name": "stdout"
        }
      ]
    },
    {
      "cell_type": "markdown",
      "metadata": {
        "id": "OiGmUZlqdtpA",
        "colab_type": "text"
      },
      "source": [
        "#Python Program to count the number of words in a text file. \n"
      ]
    },
    {
      "cell_type": "code",
      "metadata": {
        "id": "oJbCNodwfiJI",
        "colab_type": "code",
        "colab": {
          "base_uri": "https://localhost:8080/",
          "height": 68
        },
        "outputId": "5281d9ab-bcd1-4a15-e445-f2ae6f6c8318"
      },
      "source": [
        "fname = input(\"Enter file name: \")\n",
        "num_words = 0\n",
        "with open(fname, 'r') as f:\n",
        "    for line in f:\n",
        "        words = line.split()\n",
        "        num_words += len(words)\n",
        "print(\"Number of words:\")\n",
        "print(num_words)\n"
      ],
      "execution_count": 46,
      "outputs": [
        {
          "output_type": "stream",
          "text": [
            "Enter file name: /shri.txt\n",
            "Number of words:\n",
            "3\n"
          ],
          "name": "stdout"
        }
      ]
    },
    {
      "cell_type": "markdown",
      "metadata": {
        "id": "vaeMHI7Dd6r-",
        "colab_type": "text"
      },
      "source": [
        "#Python Program to count the occurrences of a word in a text file.\n"
      ]
    },
    {
      "cell_type": "code",
      "metadata": {
        "id": "4ORRuDHMeiYB",
        "colab_type": "code",
        "colab": {
          "base_uri": "https://localhost:8080/",
          "height": 85
        },
        "outputId": "502edaeb-b7fc-4e9d-d013-ee779179d413"
      },
      "source": [
        "fname = input(\"Enter file name: \")\n",
        "word=input(\"Enter word to be searched:\")\n",
        "k = 0\n",
        "\n",
        "with open(fname, 'r') as f:\n",
        "    for line in f:\n",
        "        words = line.split()\n",
        "        for i in words:\n",
        "            if(i==word):\n",
        "                k=k+1\n",
        "print(\"Occurrences of the word:\")\n",
        "print(k)\n"
      ],
      "execution_count": 47,
      "outputs": [
        {
          "output_type": "stream",
          "text": [
            "Enter file name: /shri.txt\n",
            "Enter word to be searched:kunder\n",
            "Occurrences of the word:\n",
            "1\n"
          ],
          "name": "stdout"
        }
      ]
    },
    {
      "cell_type": "markdown",
      "metadata": {
        "id": "3IymZjWfeEBG",
        "colab_type": "text"
      },
      "source": [
        "#Python Program to copy the contents of one file into another. \n"
      ]
    },
    {
      "cell_type": "code",
      "metadata": {
        "id": "M4xwPOjfeELB",
        "colab_type": "code",
        "colab": {}
      },
      "source": [
        "with open(\"/shri.txt\") as f:\n",
        "    with open(\"out.txt\", \"w\") as f1:\n",
        "        for line in f:\n",
        "            f1.write(line)\n"
      ],
      "execution_count": 0,
      "outputs": []
    },
    {
      "cell_type": "markdown",
      "metadata": {
        "id": "Gz-rBx2TeLE2",
        "colab_type": "text"
      },
      "source": [
        "#Python Program to read the contents of the file in reverse order.\n",
        " "
      ]
    },
    {
      "cell_type": "code",
      "metadata": {
        "id": "Zer6kwqKeLP6",
        "colab_type": "code",
        "colab": {
          "base_uri": "https://localhost:8080/",
          "height": 68
        },
        "outputId": "3b748c64-c77b-4981-fa9d-4563b504f1e8"
      },
      "source": [
        "filename=input(\"Enter file name: \")\n",
        "    \n",
        "with open (filename,'r') as f:\n",
        "    for line in f:\n",
        "        l=line.split()\n",
        "        l.reverse() \n",
        "        st= \" \".join(l)\n",
        "        print (st)\n"
      ],
      "execution_count": 49,
      "outputs": [
        {
          "output_type": "stream",
          "text": [
            "Enter file name: /shri.txt\n",
            "kunder Shrinivas\n",
            "mandathi\n"
          ],
          "name": "stdout"
        }
      ]
    }
  ]
}